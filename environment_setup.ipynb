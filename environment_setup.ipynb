{
 "cells": [
  {
   "cell_type": "markdown",
   "id": "c70137f6",
   "metadata": {},
   "source": [
    "# Environment Setup for CAMUS Diffusion Model\n",
    "This notebook provides a complete environment setup for working with CAMUS diffusion models and ONNX conversion.\n",
    "\n",
    "## Prerequisites\n",
    "- Python 3.9+ \n",
    "- PyTorch 1.13+\n",
    "- Git (for cloning repositories)"
   ]
  },
  {
   "cell_type": "markdown",
   "id": "a0b3839c",
   "metadata": {},
   "source": [
    "## 1. Install Required Libraries\n",
    "First, let's install all the necessary Python packages."
   ]
  },
  {
   "cell_type": "code",
   "execution_count": null,
   "id": "071fa727",
   "metadata": {},
   "outputs": [],
   "source": [
    "# Install core dependencies\n",
    "!pip install -q --upgrade pip\n",
    "!pip install torch torchvision onnx onnxruntime pillow matplotlib numpy\n",
    "\n",
    "# Install specific versions if needed for compatibility\n",
    "!pip install \"onnxruntime==1.15.1\""
   ]
  },
  {
   "cell_type": "markdown",
   "id": "4bf6e03f",
   "metadata": {},
   "source": [
    "## 2. Install EchoGAINS Repository\n",
    "The EchoGAINS repository contains the necessary code for handling the CAMUS diffusion model."
   ]
  },
  {
   "cell_type": "code",
   "execution_count": null,
   "id": "785d8347",
   "metadata": {},
   "outputs": [],
   "source": [
    "# Clone the repository if not already present\n",
    "import os\n",
    "if not os.path.exists('echogains'):\n",
    "    !git clone https://github.com/GillesVanDeVyver/EchoGAINS.git echogains\n",
    "    print(\"Repository cloned successfully!\")\n",
    "else:\n",
    "    print(\"Repository already exists, skipping clone.\")\n",
    "    \n",
    "# Install the local package in development mode\n",
    "!cd echogains && pip install -e ."
   ]
  },
  {
   "cell_type": "markdown",
   "id": "9fe43d7a",
   "metadata": {},
   "source": [
    "## 3. Verify Installation\n",
    "Let's verify that all components are installed correctly."
   ]
  },
  {
   "cell_type": "code",
   "execution_count": null,
   "id": "e0f832d0",
   "metadata": {},
   "outputs": [],
   "source": [
    "# Check package versions\n",
    "import torch\n",
    "import onnx\n",
    "import onnxruntime\n",
    "import PIL\n",
    "import matplotlib\n",
    "import numpy as np\n",
    "\n",
    "print(f\"PyTorch version: {torch.__version__}\")\n",
    "print(f\"ONNX version: {onnx.__version__}\")\n",
    "print(f\"ONNX Runtime version: {onnxruntime.__version__}\")\n",
    "print(f\"Pillow version: {PIL.__version__}\")\n",
    "print(f\"Matplotlib version: {matplotlib.__version__}\")\n",
    "print(f\"Numpy version: {np.__version__}\")\n",
    "\n",
    "# Check if CUDA is available for PyTorch\n",
    "print(f\"CUDA available: {torch.cuda.is_available()}\")\n",
    "if torch.cuda.is_available():\n",
    "    print(f\"CUDA device count: {torch.cuda.device_count()}\")\n",
    "    print(f\"Current CUDA device: {torch.cuda.current_device()}\")\n",
    "    print(f\"CUDA device name: {torch.cuda.get_device_name(0)}\")"
   ]
  },
  {
   "cell_type": "markdown",
   "id": "61fc669e",
   "metadata": {},
   "source": [
    "## 4. Set Up File Paths\n",
    "Now let's set up the necessary file paths for the conversion process."
   ]
  },
  {
   "cell_type": "code",
   "execution_count": null,
   "id": "419fa795",
   "metadata": {},
   "outputs": [],
   "source": [
    "# Define paths\n",
    "import os\n",
    "from pathlib import Path\n",
    "\n",
    "# Set working directory\n",
    "working_dir = Path.cwd()\n",
    "print(f\"Working directory: {working_dir}\")\n",
    "\n",
    "# Define model paths\n",
    "model_path = working_dir / \"CAMUS_diffusion_model.pt\"\n",
    "onnx_output_path = working_dir / \"camus_diffusion_model.onnx\"\n",
    "\n",
    "print(f\"PyTorch model path: {model_path}\")\n",
    "print(f\"ONNX model output path: {onnx_output_path}\")\n",
    "\n",
    "# Check if the PyTorch model exists\n",
    "if model_path.exists():\n",
    "    print(\"PyTorch model file found!\")\n",
    "else:\n",
    "    print(\"PyTorch model file not found. Please ensure it's in the correct location.\")"
   ]
  },
  {
   "cell_type": "markdown",
   "id": "d7b1fb24",
   "metadata": {},
   "source": [
    "## 5. Additional iOS Environment Setup\n",
    "If you're planning to deploy to iOS, you'll need additional setup steps."
   ]
  },
  {
   "cell_type": "code",
   "execution_count": null,
   "id": "cbc7a0aa",
   "metadata": {},
   "outputs": [],
   "source": [
    "# Create a directory for iOS-specific files if it doesn't exist\n",
    "ios_dir = working_dir / \"ios_deployment\"\n",
    "if not ios_dir.exists():\n",
    "    os.makedirs(ios_dir, exist_ok=True)\n",
    "    print(f\"Created iOS deployment directory: {ios_dir}\")\n",
    "else:\n",
    "    print(f\"iOS deployment directory already exists: {ios_dir}\")\n",
    "\n",
    "# Define CoreML model path (for future conversion)\n",
    "coreml_output_path = ios_dir / \"camus_diffusion_model.mlmodel\"\n",
    "print(f\"CoreML model output path: {coreml_output_path}\")"
   ]
  },
  {
   "cell_type": "markdown",
   "id": "fbd16c8c",
   "metadata": {},
   "source": [
    "## 6. Summary\n",
    "Your environment is now set up for:\n",
    "- Converting the CAMUS diffusion model to ONNX format\n",
    "- Testing the ONNX model\n",
    "- Further converting to CoreML for iOS deployment\n",
    "\n",
    "You can now proceed to the conversion notebooks."
   ]
  }
 ],
 "metadata": {
  "language_info": {
   "name": "python"
  }
 },
 "nbformat": 4,
 "nbformat_minor": 5
}
