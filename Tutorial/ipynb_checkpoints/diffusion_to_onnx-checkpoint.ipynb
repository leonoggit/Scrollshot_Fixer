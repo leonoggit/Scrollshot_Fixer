{
 "cells": [
  {
   "cell_type": "markdown",
   "id": "34f0995e",
   "metadata": {},
   "source": [
    "# CAMUS Diffusion Model to ONNX\n",
    "This notebook converts `CAMUS_diffusion_model.pt` to ONNX for iOS deployment.\n",
    "It uses the conversion script provided in this repository.\n",
    "\n",
    "Model parameters:\n",
    "* image_size=256\n",
    "* num_channels=64\n",
    "* num_res_blocks=4\n",
    "* learn_sigma=True\n",
    "* diffusion_steps=4000\n",
    "* noise_schedule=cosine\n",
    "* lr=1e-4\n",
    "* batch_size=32"
   ]
  },
  {
   "cell_type": "markdown",
   "id": "397794b0",
   "metadata": {},
   "source": [
    "## Environment Setup\n",
    "This notebook requires **Python 3.9+** and the following packages:\n",
    "- `torch`\n",
    "- `onnx`\n",
    "- `onnxruntime`\n",
    "- `pillow`\n",
    "- `matplotlib` (optional for visual checks)\n",
    "- the [EchoGAINS](https://github.com/GillesVanDeVyver/EchoGAINS) repository.\n",
    "\n",
    "Run the cell below to install these dependencies in a fresh virtual environment or Colab runtime."
   ]
  },
  {
   "cell_type": "code",
   "execution_count": null,
   "id": "4d1bb425",
   "metadata": {},
   "outputs": [],
   "source": [
    "# Install conversion dependencies\n",
    "!pip install -q --upgrade pip\n",
    "!pip install -q torch onnx onnxruntime pillow matplotlib git+https://github.com/GillesVanDeVyver/EchoGAINS.git"
   ]
  },
  {
   "cell_type": "code",
   "execution_count": null,
   "id": "1a2c3bef",
   "metadata": {},
   "outputs": [],
   "source": [
    "import sys\n",
    "sys.path.append('.')\n",
    "from convert_diffusion_to_onnx import load_diffusion_model, convert_to_onnx, validate_onnx_model\n",
    "\n",
    "model_path = 'CAMUS_diffusion_model.pt'\n",
    "onnx_output = 'camus_diffusion_model.onnx'\n",
    "\n",
    "model = load_diffusion_model(model_path)\n",
    "convert_to_onnx(model, onnx_output)\n",
    "validate_onnx_model(onnx_output, model)"
   ]
  },
  {
   "cell_type": "markdown",
   "id": "0adc4734",
   "metadata": {},
   "source": [
    "After executing the steps above, the file `camus_diffusion_model.onnx` will appear in the current directory. Add this file to your Xcode project alongside the segmentation ONNX model."
   ]
  }
 ],
 "metadata": {
  "kernelspec": {
   "display_name": "Python 3",
   "language": "python",
   "name": "python3"
  },
  "language_info": {
   "file_extension": ".py",
   "mimetype": "text/x-python",
   "name": "python"
  }
 },
 "nbformat": 4,
 "nbformat_minor": 5
}
