{
 "cells": [
  {
   "cell_type": "markdown",
   "metadata": {},
   "source": [
    "# CAMUS Diffusion Model to ONNX\n",
    "This notebook demonstrates how to convert the pretrained diffusion model `CAMUS_diffusion_model.pt` to the ONNX format for use on iOS.\n",
    "\n",
    "The model was trained with the following parameters:\n",
    "* image_size=256\n",
    "* num_channels=64\n",
    "* num_res_blocks=4\n",
    "* learn_sigma=True\n",
    "* diffusion_steps=4000\n",
    "* noise_schedule=cosine\n",
    "* lr=1e-4\n",
    "* batch_size=32\n",
    "\n",
    "We reuse the conversion utilities provided in this repository."
   ]
  },
  {
   "cell_type": "code",
   "execution_count": null,
   "metadata": {},
   "outputs": [],
   "source": [
    "# Install dependencies\n",
    "!pip install torch onnx onnxruntime git+https://github.com/GillesVanDeVyver/EchoGAINS.git"
   ]
  },
  {
   "cell_type": "code",
   "execution_count": null,
   "metadata": {},
   "outputs": [],
   "source": [
    "import sys\n",
    "sys.path.append('.')\n",
    "from convert_diffusion_to_onnx import load_diffusion_model, convert_to_onnx, validate_onnx_model\n",
    "\n",
    "model_path = 'CAMUS_diffusion_model.pt'\n",
    "onnx_output = 'camus_diffusion_model.onnx'\n",
    "\n",
    "model = load_diffusion_model(model_path)\n",
    "convert_to_onnx(model, onnx_output)\n",
    "validate_onnx_model(onnx_output, model)"
   ]
  },
  {
   "cell_type": "markdown",
   "metadata": {},
   "source": [
    "After running the steps above, the file `camus_diffusion_model.onnx` will be produced and can be placed in the Xcode project."
   ]
  }
 ],
 "metadata": {
  "kernelspec": {
   "display_name": "Python 3",
   "language": "python",
   "name": "python3"
  },
  "language_info": {
   "file_extension": ".py",
   "mimetype": "text/x-python",
   "name": "python"
  }
 },
 "nbformat": 4,
 "nbformat_minor": 5
}
